{
 "cells": [
  {
   "cell_type": "markdown",
   "id": "389474ce",
   "metadata": {},
   "source": [
    "# KIVY code to list files and merge pdf files"
   ]
  },
  {
   "cell_type": "code",
   "execution_count": 3,
   "id": "c5db5335",
   "metadata": {},
   "outputs": [
    {
     "name": "stdout",
     "output_type": "stream",
     "text": [
      "Collecting PyPDF2\n",
      "  Downloading PyPDF2-1.26.0.tar.gz (77 kB)\n",
      "Building wheels for collected packages: PyPDF2\n",
      "  Building wheel for PyPDF2 (setup.py): started\n",
      "  Building wheel for PyPDF2 (setup.py): finished with status 'done'\n",
      "  Created wheel for PyPDF2: filename=PyPDF2-1.26.0-py3-none-any.whl size=61085 sha256=46f3d622418b06e9e1c6e06e95a224152ef5e74e4cd426a33a719869eb47e649\n",
      "  Stored in directory: c:\\users\\vgw34365\\appdata\\local\\pip\\cache\\wheels\\b1\\1a\\8f\\a4c34be976825a2f7948d0fa40907598d69834f8ab5889de11\n",
      "Successfully built PyPDF2\n",
      "Installing collected packages: PyPDF2\n",
      "Successfully installed PyPDF2-1.26.0\n",
      "Note: you may need to restart the kernel to use updated packages.\n"
     ]
    }
   ],
   "source": [
    "pip install PyPDF2"
   ]
  },
  {
   "cell_type": "code",
   "execution_count": null,
   "id": "6c30a3ca",
   "metadata": {},
   "outputs": [
    {
     "name": "stderr",
     "output_type": "stream",
     "text": [
      "[INFO   ] [Logger      ] Record log in C:\\Users\\vgw34365\\.kivy\\logs\\kivy_22-01-29_19.txt\n",
      "[INFO   ] [deps        ] Successfully imported \"kivy_deps.angle\" 0.3.1\n",
      "[INFO   ] [deps        ] Successfully imported \"kivy_deps.glew\" 0.3.0\n",
      "[INFO   ] [deps        ] Successfully imported \"kivy_deps.sdl2\" 0.3.1\n",
      "[INFO   ] [Kivy        ] v2.0.0\n",
      "[INFO   ] [Kivy        ] Installed at \"C:\\Users\\vgw34365\\Anaconda3\\lib\\site-packages\\kivy\\__init__.py\"\n",
      "[INFO   ] [Python      ] v3.8.8 (default, Apr 13 2021, 15:08:03) [MSC v.1916 64 bit (AMD64)]\n",
      "[INFO   ] [Python      ] Interpreter at \"C:\\Users\\vgw34365\\Anaconda3\\python.exe\"\n",
      "[INFO   ] [Factory     ] 186 symbols loaded\n",
      "[INFO   ] [Image       ] Providers: img_tex, img_dds, img_sdl2, img_pil (img_ffpyplayer ignored)\n",
      "[INFO   ] [Text        ] Provider: sdl2\n",
      "[INFO   ] [Window      ] Provider: sdl2\n",
      "[INFO   ] [GL          ] Using the \"OpenGL\" graphics system\n",
      "[INFO   ] [GL          ] GLEW initialization succeeded\n",
      "[INFO   ] [GL          ] Backend used <glew>\n",
      "[INFO   ] [GL          ] OpenGL version <b'4.5.0 - Build 22.20.16.4799'>\n",
      "[INFO   ] [GL          ] OpenGL vendor <b'Intel'>\n",
      "[INFO   ] [GL          ] OpenGL renderer <b'Intel(R) HD Graphics 520'>\n",
      "[INFO   ] [GL          ] OpenGL parsed version: 4, 5\n",
      "[INFO   ] [GL          ] Shading version <b'4.50 - Build 22.20.16.4799'>\n",
      "[INFO   ] [GL          ] Texture max size <16384>\n",
      "[INFO   ] [GL          ] Texture max units <32>\n",
      "[INFO   ] [Window      ] auto add sdl2 input provider\n",
      "[INFO   ] [Window      ] virtual keyboard not allowed, single mode, not docked\n",
      "[INFO   ] [Base        ] Start application main loop\n",
      "[INFO   ] [GL          ] NPOT texture support is available\n",
      "[INFO   ] [Clipboard   ] Provider: winctypes\n"
     ]
    }
   ],
   "source": [
    "import os\n",
    "from PyPDF2 import PdfFileMerger\n",
    "import kivy\n",
    "from kivy.app import App\n",
    "from kivy.uix.label import Label\n",
    "from kivy.uix.gridlayout import GridLayout\n",
    "from kivy.uix.boxlayout import BoxLayout\n",
    "from kivy.uix.textinput import TextInput\n",
    "from kivy.uix.button import Button\n",
    "\n",
    "\n",
    "class MyGridLayout(GridLayout):\n",
    "    def __init__(self, **kwargs):\n",
    "        super(MyGridLayout, self).__init__(**kwargs)\n",
    "\n",
    "        \"\"\"set columns\"\"\"\n",
    "        self.cols = 1\n",
    "        \"\"\"create second grid\"\"\"\n",
    "        self.top_grid = GridLayout()\n",
    "        self.box = BoxLayout()\n",
    "        self.top_grid.cols = 2\n",
    "        \"\"\"Add Widgets\"\"\"\n",
    "        self.top_grid.add_widget(Label(text=\"Directory Path: \"))\n",
    "        \"\"\"Add Input Box\"\"\"\n",
    "        self.name = TextInput(multiline=False)\n",
    "        self.top_grid.add_widget(self.name)\n",
    "\n",
    "        \"\"\"Add the new top_grid2 to our app\"\"\"\n",
    "        self.add_widget(self.top_grid)\n",
    "\n",
    "        \"\"\"Add Button\"\"\"\n",
    "        self.submit = Button(text=\"Submit\", font_size=32)\n",
    "        self.submit.bind(on_press=self.press)\n",
    "        self.add_widget(self.submit)\n",
    "\n",
    "    def press(self, instance):\n",
    "        name = self.name.text\n",
    "\n",
    "        source_dir = name\n",
    "\n",
    "        merger = PdfFileMerger()\n",
    "\n",
    "        os.listdir(source_dir)\n",
    "\n",
    "        itemslist = []\n",
    "        for item in os.listdir(source_dir):\n",
    "            self.add_widget(Label(text=f'{item}'))\n",
    "            if item.endswith('pdf'):\n",
    "                merger.append(os.path.join(source_dir, item))\n",
    "        mfile = os.path.join(source_dir, 'Out2.pdf')\n",
    "        merger.write(mfile)\n",
    "        merger.close()\n",
    "        self.add_widget(Label(text=f'Merged pdf file : {mfile}'))\n",
    "\n",
    "        \"\"\"print(f'Hello {name}, your favorite {pizza} pizza color is {color} !')\"\"\"\n",
    "        \"\"\"self.add_widget(Label(text=f'Hello {item} !'))\"\"\"\n",
    "\n",
    "        self.name.text = \"\"\n",
    "\n",
    "\n",
    "class MyApp(App):\n",
    "    def build(self):\n",
    "        return MyGridLayout()\n",
    "\n",
    "\n",
    "if __name__ == '__main__':\n",
    "    MyApp().run()"
   ]
  },
  {
   "cell_type": "code",
   "execution_count": 7,
   "id": "e4cccd9d",
   "metadata": {},
   "outputs": [
    {
     "data": {
      "text/plain": [
       "'C:\\\\Users\\\\vgw34365\\\\Desktop\\\\assignments\\\\23Dec2021'"
      ]
     },
     "execution_count": 7,
     "metadata": {},
     "output_type": "execute_result"
    }
   ],
   "source": []
  },
  {
   "cell_type": "code",
   "execution_count": null,
   "id": "6b521808",
   "metadata": {},
   "outputs": [],
   "source": []
  }
 ],
 "metadata": {
  "kernelspec": {
   "display_name": "Python 3",
   "language": "python",
   "name": "python3"
  },
  "language_info": {
   "codemirror_mode": {
    "name": "ipython",
    "version": 3
   },
   "file_extension": ".py",
   "mimetype": "text/x-python",
   "name": "python",
   "nbconvert_exporter": "python",
   "pygments_lexer": "ipython3",
   "version": "3.8.8"
  }
 },
 "nbformat": 4,
 "nbformat_minor": 5
}
